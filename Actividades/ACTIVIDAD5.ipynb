{
  "nbformat": 4,
  "nbformat_minor": 0,
  "metadata": {
    "colab": {
      "provenance": [],
      "authorship_tag": "ABX9TyNDTljqdob20M7P74eW3Zok",
      "include_colab_link": true
    },
    "kernelspec": {
      "name": "python3",
      "display_name": "Python 3"
    },
    "language_info": {
      "name": "python"
    }
  },
  "cells": [
    {
      "cell_type": "markdown",
      "metadata": {
        "id": "view-in-github",
        "colab_type": "text"
      },
      "source": [
        "<a href=\"https://colab.research.google.com/github/Litos23/IAyRN-Repo-6to-Sem/blob/main/ACTIVIDAD5.ipynb\" target=\"_parent\"><img src=\"https://colab.research.google.com/assets/colab-badge.svg\" alt=\"Open In Colab\"/></a>"
      ]
    },
    {
      "cell_type": "code",
      "source": [
        "# CARLOS ANTONIO MACÍAS GONZÁLEZ | 2127909 | N4 LMV"
      ],
      "metadata": {
        "id": "rBeP1nXwdDj_"
      },
      "execution_count": null,
      "outputs": []
    },
    {
      "cell_type": "markdown",
      "source": [
        "1. Desarrolla un algoritmo que le pida al usuario por su nombre y que lo salude con su nombre, excepto si se llama “Ana”, “Juan”, y “Pedro”."
      ],
      "metadata": {
        "id": "Q1J49gJhoSbx"
      }
    },
    {
      "cell_type": "code",
      "source": [
        "nombre = input(\"Ingrese su nombre \")\n",
        "if(nombre == \"Ana\" or nombre == \"Juan\" or nombre == \"Pedro\"):\n",
        "  print(\"¡Hola!\")\n",
        "else:\n",
        "  print(\"¡Hola \" + nombre + \"!\")"
      ],
      "metadata": {
        "colab": {
          "base_uri": "https://localhost:8080/"
        },
        "id": "xgvB90s8oV23",
        "outputId": "1d18ff50-dbeb-473a-b740-19f49ab21193"
      },
      "execution_count": null,
      "outputs": [
        {
          "output_type": "stream",
          "name": "stdout",
          "text": [
            "Ingrese su nombre Carlos\n",
            "¡Hola Carlos!\n"
          ]
        }
      ]
    },
    {
      "cell_type": "markdown",
      "source": [
        "2. Desarrolla un algoritmo que por medio de una función, le pida al usuario una lista de N elementos y como resultado invierta el sentido de la lista."
      ],
      "metadata": {
        "id": "f3yTIAhhpksA"
      }
    },
    {
      "cell_type": "code",
      "source": [
        "lista = []\n",
        "def invertir(lista):\n",
        "  n = input(\"Ingrese la cantidad de elementos en la lista \")\n",
        "  for x in range(int(n)):\n",
        "    lista.append(input(\"Ingrese un elemento \"))\n",
        "  print(lista[::-1])\n",
        "invertir(lista)"
      ],
      "metadata": {
        "colab": {
          "base_uri": "https://localhost:8080/"
        },
        "id": "vKKp40Jgr-Wc",
        "outputId": "968e1e35-11fd-47f7-ea95-f20765ec028b"
      },
      "execution_count": null,
      "outputs": [
        {
          "output_type": "stream",
          "name": "stdout",
          "text": [
            "Ingrese la cantidad de elementos en la lista 5\n",
            "Ingrese un elemento 2\n",
            "Ingrese un elemento 2\n",
            "Ingrese un elemento 5\n",
            "Ingrese un elemento 5\n",
            "Ingrese un elemento 4\n",
            "['4', '5', '5', '2', '2']\n"
          ]
        }
      ]
    },
    {
      "cell_type": "markdown",
      "source": [
        "3. Desarrolla un algoritmo que le pregunte al usuario cuántos números de la serie de Fibonacci quiere generar y que al final los imprima."
      ],
      "metadata": {
        "id": "ABj4ZY3tssk4"
      }
    },
    {
      "cell_type": "code",
      "source": [
        "fib = [0,1]\n",
        "n = int(input(\"Ingrese la cantidad de números que desea generar de la serie de Fibonacci: \"))\n",
        "if(n == 1):\n",
        "  print([fib[0]])\n",
        "else:\n",
        "  for x in range(2,int(n)):\n",
        "    fib.append(fib[-1] + fib[-2])\n",
        "  print(fib)"
      ],
      "metadata": {
        "colab": {
          "base_uri": "https://localhost:8080/"
        },
        "id": "6kNytQZ-_TIH",
        "outputId": "43455625-3111-4419-f214-0de72b53c4aa"
      },
      "execution_count": null,
      "outputs": [
        {
          "output_type": "stream",
          "name": "stdout",
          "text": [
            "Ingrese la cantidad de números que desea generar de la serie de Fibonacci: 1\n",
            "[0]\n"
          ]
        }
      ]
    },
    {
      "cell_type": "markdown",
      "source": [
        "4. Juego de adivinar el número: Crea un programa que genere un número aleatorio entre 1 y 100, y luego le pida al usuario que adivine el número. El programa debe proporcionar pistas al usuario si el número es mayor o menor que el número objetivo, y seguir solicitando un nuevo intento hasta que el usuario adivine correctamente."
      ],
      "metadata": {
        "id": "_WnJfrUyBXGz"
      }
    },
    {
      "cell_type": "code",
      "source": [
        "import random\n",
        "\n",
        "numero_aleatorio = random.randint(1, 100)\n",
        "intentos = 0\n",
        "print(\". ݁₊ ⊹ . ݁˖ . ݁   ADIVINA EL NÚMERO   . ݁₊ ⊹ . ݁˖ . ݁\")\n",
        "print(\"¿Qué número estoy pensando entre el 1 y el 100?\")\n",
        "\n",
        "while True:\n",
        "    intento = int(input(\"Introduce tu intento: \"))\n",
        "    intentos += 1\n",
        "\n",
        "    if intento < numero_aleatorio:\n",
        "        print(\"Demasiado bajo. Intenta de nuevo.\")\n",
        "    elif intento > numero_aleatorio:\n",
        "        print(\"Demasiado alto. Intenta de nuevo.\")\n",
        "    else:\n",
        "        print(f\"¡Felicidades! Adivinaste el número {numero_aleatorio} en {intentos} intentos.\")\n",
        "        break"
      ],
      "metadata": {
        "colab": {
          "base_uri": "https://localhost:8080/"
        },
        "id": "tOmo-q_lKlwi",
        "outputId": "4df0f986-6747-4eef-af84-8eba7a1d20a2"
      },
      "execution_count": null,
      "outputs": [
        {
          "output_type": "stream",
          "name": "stdout",
          "text": [
            ". ݁₊ ⊹ . ݁˖ . ݁   ADIVINA EL NÚMERO   . ݁₊ ⊹ . ݁˖ . ݁\n",
            "¿Qué número estoy pensando entre el 1 y el 100?\n",
            "Introduce tu intento: 97\n",
            "Demasiado alto. Intenta de nuevo.\n",
            "Introduce tu intento: 53\n",
            "Demasiado alto. Intenta de nuevo.\n",
            "Introduce tu intento: 42\n",
            "Demasiado alto. Intenta de nuevo.\n",
            "Introduce tu intento: 30\n",
            "Demasiado alto. Intenta de nuevo.\n",
            "Introduce tu intento: 10\n",
            "¡Felicidades! Adivinaste el número 10 en 5 intentos.\n"
          ]
        }
      ]
    },
    {
      "cell_type": "markdown",
      "source": [
        "5. Ejercicio de cálculo de números primos en un rango dado: Escribe un programa que solicite al usuario un rango de números y muestre todos los números primos dentro de ese rango."
      ],
      "metadata": {
        "id": "L8XqtRq2OxHj"
      }
    },
    {
      "cell_type": "code",
      "source": [
        "inicio = int(input(\"Ingrese el inicio del rango: \"))\n",
        "fin = int(input(\"Ingrese el final del rango: \"))\n",
        "\n",
        "print(f\"Los números primos en el rango del {inicio} al {fin} son:\")\n",
        "for x in range(inicio, fin + 1):\n",
        "  if x > 1:\n",
        "    for i in range(2, x):\n",
        "      if (x % i) == 0:\n",
        "        break\n",
        "    else:\n",
        "      print(x)"
      ],
      "metadata": {
        "colab": {
          "base_uri": "https://localhost:8080/"
        },
        "id": "xkE_xbh-OzfN",
        "outputId": "1be7f73b-2e35-416d-cae8-f5c4931e6d40"
      },
      "execution_count": null,
      "outputs": [
        {
          "output_type": "stream",
          "name": "stdout",
          "text": [
            "Ingrese el inicio del rango: 1\n",
            "Ingrese el final del rango: 100\n",
            "Los números primos en el rango del 1 al 100 son:\n",
            "2\n",
            "3\n",
            "5\n",
            "7\n",
            "11\n",
            "13\n",
            "17\n",
            "19\n",
            "23\n",
            "29\n",
            "31\n",
            "37\n",
            "41\n",
            "43\n",
            "47\n",
            "53\n",
            "59\n",
            "61\n",
            "67\n",
            "71\n",
            "73\n",
            "79\n",
            "83\n",
            "89\n",
            "97\n"
          ]
        }
      ]
    },
    {
      "cell_type": "markdown",
      "source": [
        "6. Ejercicio de implementación de una calculadora básica utilizando funciones: Escribe un programa que solicite al usuario dos números y realice operaciones básicas como suma, resta, multiplicación y división utilizando funciones separadas para cada operación."
      ],
      "metadata": {
        "id": "1_WbUhRraRYE"
      }
    },
    {
      "cell_type": "code",
      "source": [
        "def sumar(a, b):\n",
        "    return a + b\n",
        "\n",
        "def restar(a, b):\n",
        "    return a - b\n",
        "\n",
        "def multiplicar(a, b):\n",
        "    return a * b\n",
        "\n",
        "def dividir(a, b):\n",
        "    if b != 0:\n",
        "        return a / b\n",
        "    else:\n",
        "        return \"Error: No se puede dividir por cero.\"\n",
        "\n",
        "def calculadora():\n",
        "    print(\". ݁₊ ⊹ . ݁˖ . ݁CALCULADORA. ݁₊ ⊹ . ݁˖ . ݁\")\n",
        "\n",
        "    num1 = float(input(\"Introduce el primer número: \"))\n",
        "    num2 = float(input(\"Introduce el segundo número: \"))\n",
        "\n",
        "    print(\"Selecciona la operación que deseas realizar:\")\n",
        "    print(\"1. Sumar\")\n",
        "    print(\"2. Restar\")\n",
        "    print(\"3. Multiplicar\")\n",
        "    print(\"4. Dividir\")\n",
        "\n",
        "    opcion = input(\"Introduce el número de la operación (1/2/3/4): \")\n",
        "\n",
        "    if opcion == '1':\n",
        "        print(f\"La suma de {num1} y {num2} es: {sumar(num1, num2)}\")\n",
        "    elif opcion == '2':\n",
        "        print(f\"La resta de {num1} y {num2} es: {restar(num1, num2)}\")\n",
        "    elif opcion == '3':\n",
        "        print(f\"La multiplicación de {num1} y {num2} es: {multiplicar(num1, num2)}\")\n",
        "    elif opcion == '4':\n",
        "        print(f\"La división de {num1} y {num2} es: {dividir(num1, num2)}\")\n",
        "    else:\n",
        "        print(\"Opción no válida. Por favor, selecciona una operación del 1 al 4.\")\n",
        "        return calculadora()\n",
        "\n",
        "\n",
        "calculadora()\n"
      ],
      "metadata": {
        "colab": {
          "base_uri": "https://localhost:8080/"
        },
        "id": "DhvuB-ZgajAV",
        "outputId": "b29d8b47-835d-4ce4-a66e-a409f8da83c5"
      },
      "execution_count": 6,
      "outputs": [
        {
          "output_type": "stream",
          "name": "stdout",
          "text": [
            ". ݁₊ ⊹ . ݁˖ . ݁CALCULADORA. ݁₊ ⊹ . ݁˖ . ݁\n",
            "Introduce el primer número: 5\n",
            "Introduce el segundo número: 6\n",
            "Selecciona la operación que deseas realizar:\n",
            "1. Sumar\n",
            "2. Restar\n",
            "3. Multiplicar\n",
            "4. Dividir\n",
            "Introduce el número de la operación (1/2/3/4): 5\n",
            "Opción no válida. Por favor, selecciona una operación del 1 al 4.\n",
            ". ݁₊ ⊹ . ݁˖ . ݁CALCULADORA. ݁₊ ⊹ . ݁˖ . ݁\n",
            "Introduce el primer número: 5\n",
            "Introduce el segundo número: 3\n",
            "Selecciona la operación que deseas realizar:\n",
            "1. Sumar\n",
            "2. Restar\n",
            "3. Multiplicar\n",
            "4. Dividir\n",
            "Introduce el número de la operación (1/2/3/4): 3\n",
            "La multiplicación de 5.0 y 3.0 es: 15.0\n"
          ]
        }
      ]
    }
  ]
}
